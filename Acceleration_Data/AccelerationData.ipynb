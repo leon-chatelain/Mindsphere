{
 "metadata": {
  "language_info": {
   "codemirror_mode": {
    "name": "ipython",
    "version": 3
   },
   "file_extension": ".py",
   "mimetype": "text/x-python",
   "name": "python",
   "nbconvert_exporter": "python",
   "pygments_lexer": "ipython3",
   "version": "3.8.10"
  },
  "orig_nbformat": 2,
  "kernelspec": {
   "name": "python3",
   "display_name": "Python 3.8.10 64-bit (conda)"
  },
  "interpreter": {
   "hash": "b410b78247faa21bcebbe7fc3436592ff486dcacc709fc1660a3109893e9446b"
  }
 },
 "nbformat": 4,
 "nbformat_minor": 2,
 "cells": [
  {
   "cell_type": "code",
   "execution_count": 112,
   "source": [
    "#Imports:\r\n",
    "import requests\r\n",
    "import base64\r\n",
    "import json"
   ],
   "outputs": [],
   "metadata": {}
  },
  {
   "cell_type": "code",
   "execution_count": 113,
   "source": [
    "#User specific Input:\r\n",
    "client_id = \"iiotj4nz-accelerationdata-v1.0.0\"\r\n",
    "client_secret = \"bXbV0Yg4EXlR6MbRkMVPPOaXXgeWLUVvSgGInuV2NEN\"\r\n",
    "app_name = \"accelerationdata\"\r\n",
    "tenant = \"iiotj4nz\"\r\n",
    "app_version = \"v1.0.0\"\r\n",
    "asset_id = \"a3dbd2aace9d4b6f8f2caca1772114c8\"\r\n",
    "variable_name = \"acceleration\""
   ],
   "outputs": [],
   "metadata": {}
  },
  {
   "cell_type": "code",
   "execution_count": 114,
   "source": [
    "#Create decoded Key\r\n",
    "decode = client_id+\":\"+client_secret\r\n",
    "print(f'{decode[0:70]} ...')"
   ],
   "outputs": [
    {
     "output_type": "stream",
     "name": "stdout",
     "text": [
      "iiotj4nz-accelerationdata-v1.0.0:bXbV0Yg4EXlR6MbRkMVPPOaXXgeWLUVvSgGIn ...\n"
     ]
    }
   ],
   "metadata": {}
  },
  {
   "cell_type": "code",
   "execution_count": 115,
   "source": [
    "#Encode Key to Base64\r\n",
    "decode = decode.encode('UTF-8')\r\n",
    "encode = base64.b64encode(decode)\r\n",
    "str_encode = encode.decode('UTF-8')\r\n",
    "print(str_encode)"
   ],
   "outputs": [
    {
     "output_type": "stream",
     "name": "stdout",
     "text": [
      "aWlvdGo0bnotYWNjZWxlcmF0aW9uZGF0YS12MS4wLjA6YlhiVjBZZzRFWGxSNk1iUmtNVlBQT2FYWGdlV0xVVnZTZ0dJbnVWMk5FTg==\n"
     ]
    }
   ],
   "metadata": {}
  },
  {
   "cell_type": "code",
   "execution_count": 116,
   "source": [
    "#Create Bearer Key\r\n",
    "key = \"Bearer \"+str_encode\r\n",
    "print(key)\r\n",
    "request_url = 'https://gateway.eu1.mindsphere.io/api/technicaltokenmanager/v3/oauth/token'"
   ],
   "outputs": [
    {
     "output_type": "stream",
     "name": "stdout",
     "text": [
      "Bearer aWlvdGo0bnotYWNjZWxlcmF0aW9uZGF0YS12MS4wLjA6YlhiVjBZZzRFWGxSNk1iUmtNVlBQT2FYWGdlV0xVVnZTZ0dJbnVWMk5FTg==\n"
     ]
    }
   ],
   "metadata": {}
  },
  {
   "cell_type": "code",
   "execution_count": 117,
   "source": [
    "#Define and Send \"Post\" Request to tokenmanager\r\n",
    "headers = {'X-SPACE-AUTH-KEY': key, 'Content-Type': 'application/json'}\r\n",
    "payload = json.dumps({\r\n",
    "  \"grant_type\": \"client_credentials\",\r\n",
    "  \"appName\": app_name,\r\n",
    "  \"appVersion\": app_version,\r\n",
    "  \"hostTenant\": tenant,\r\n",
    "  \"userTenant\": tenant\r\n",
    "})\r\n",
    "r = requests.request(\"POST\", url=request_url, headers=headers, data=payload)\r\n",
    "print(r)\r\n",
    "response_encoded = r.content"
   ],
   "outputs": [
    {
     "output_type": "stream",
     "name": "stdout",
     "text": [
      "<Response [200]>\n"
     ]
    }
   ],
   "metadata": {}
  },
  {
   "cell_type": "code",
   "execution_count": 118,
   "source": [
    "#Decode Token and convert to Python object\r\n",
    "response = response_encoded.decode('UTF-8')\r\n",
    "json_response = json.loads(response)\r\n",
    "token = json_response['access_token']\r\n",
    "print(f'{token[0:100]} ...')"
   ],
   "outputs": [
    {
     "output_type": "stream",
     "name": "stdout",
     "text": [
      "eyJhbGciOiJSUzI1NiIsImprdSI6Imh0dHBzOi8vaWlvdGo0bnoucGlhbS5ldTEubWluZHNwaGVyZS5pby90b2tlbl9rZXlzIiwi ...\n"
     ]
    }
   ],
   "metadata": {}
  },
  {
   "cell_type": "code",
   "execution_count": 119,
   "source": [
    "#Get last Acceleration Data\r\n",
    "get_url = 'https://gateway.eu1.mindsphere.io/api/iottimeseries/v3/timeseries/'+asset_id+'/'+variable_name\r\n",
    "\r\n",
    "auth = 'Bearer '+token\r\n",
    "headers = {'Authorization': auth}\r\n",
    "\r\n",
    "r_get = requests.request('GET', url=get_url, headers=headers)\r\n",
    "text = r_get.text\r\n",
    "acceleration_raw = json.loads(text)\r\n",
    "acceleration = acceleration_raw[0]\r\n",
    "\r\n",
    "x = acceleration['x']\r\n",
    "y = acceleration['y']\r\n",
    "z = acceleration['z']\r\n",
    "time = acceleration['_time']\r\n",
    "print(f'Die letzten Beschleunigungswerte lauten: \\n x: {x}\\n y: {y} \\n z: {z} \\n Timestamp: {time}')"
   ],
   "outputs": [
    {
     "output_type": "stream",
     "name": "stdout",
     "text": [
      "Die letzten Beschleunigungswerte lauten: \n",
      " x: 1.192312479019165\n",
      " y: 8.858845710754395 \n",
      " z: 3.2297780513763428 \n",
      " Timestamp: 2021-08-05T08:26:43.376Z\n"
     ]
    }
   ],
   "metadata": {}
  }
 ]
}